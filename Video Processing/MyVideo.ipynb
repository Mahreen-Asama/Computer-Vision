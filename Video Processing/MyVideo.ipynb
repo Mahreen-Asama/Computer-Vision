{
 "cells": [
  {
   "cell_type": "code",
   "execution_count": 1,
   "metadata": {},
   "outputs": [],
   "source": [
    "import numpy as np\n",
    "import cv2\n",
    "import sys"
   ]
  },
  {
   "cell_type": "code",
   "execution_count": 2,
   "metadata": {},
   "outputs": [],
   "source": [
    "video = cv2.VideoCapture(0)\n",
    "\n",
    "if not video.isOpened():\n",
    "    print(\"Cannot open camera\")\n",
    "    sys.exit()\n",
    "    \n",
    "while True:\n",
    "    # Capture frame-by-frame\n",
    "    ret, frame = video.read()\n",
    "    \n",
    "    # if frame is read correctly ret is True\n",
    "    if not ret:\n",
    "        print(\"Can't receive frame. Exiting!!!\")\n",
    "        break\n",
    "        \n",
    "    # Display the resulting frame\n",
    "    cv2.imshow('frame', frame)\n",
    "    \n",
    "    # setting \"q\" as exiting \n",
    "    if cv2.waitKey(1) == ord('q'):\n",
    "        break\n",
    "        \n",
    "# When everything done, release the capture\n",
    "video.release()\n",
    "cv2.destroyAllWindows()\n"
   ]
  },
  {
   "cell_type": "code",
   "execution_count": 6,
   "metadata": {},
   "outputs": [
    {
     "name": "stdout",
     "output_type": "stream",
     "text": [
      "Can't receive frame. Exiting!!!\n"
     ]
    }
   ],
   "source": [
    "video_watch = cv2.VideoCapture(\"output.mp4\")\n",
    "\n",
    "while video_watch.isOpened():\n",
    "    ret, frame = video_watch.read()\n",
    "    # if frame is read correctly ret is True\n",
    "    if not ret:\n",
    "        print(\"Can't receive frame. Exiting!!!\")\n",
    "        break\n",
    "        \n",
    "    cv2.imshow('frame', frame)\n",
    "    \n",
    "    # setting \"q\" as exiting \n",
    "    if cv2.waitKey(10) == ord('q'):\n",
    "        break\n",
    "video_watch.release()\n",
    "cv2.destroyAllWindows()"
   ]
  },
  {
   "cell_type": "code",
   "execution_count": 4,
   "metadata": {},
   "outputs": [],
   "source": [
    "video = cv2.VideoCapture(0)\n",
    "\n",
    "# Define the codec and create VideoWriter object\n",
    "# The codecs for Windows is DIVX \n",
    "fourcc = cv2.VideoWriter_fourcc(*'DIVX')\n",
    "frames_per_second = 20\n",
    "frame_size = (640,  480)\n",
    "\n",
    "out = cv2.VideoWriter('output.mp4', fourcc, frames_per_second, frame_size)\n",
    "\n",
    "while video.isOpened():\n",
    "    ret, frame = video.read()\n",
    "    if not ret:\n",
    "        print(\"Can't receive frame. Exiting!!!\")\n",
    "        break\n",
    "    \n",
    "    # \n",
    "    # write the flipped frame\n",
    "    out.write(frame)\n",
    "    cv2.imshow('frame', frame)\n",
    "    \n",
    "    # setting \"q\" as exiting \n",
    "    if cv2.waitKey(1) == ord('q'):\n",
    "        break\n",
    "# Release everything if job is finished\n",
    "# setting \"q\" as exiting .release()\n",
    "out.release()\n",
    "cv2.destroyAllWindows()"
   ]
  },
  {
   "cell_type": "code",
   "execution_count": null,
   "metadata": {},
   "outputs": [],
   "source": []
  }
 ],
 "metadata": {
  "kernelspec": {
   "display_name": "Python 3",
   "language": "python",
   "name": "python3"
  },
  "language_info": {
   "codemirror_mode": {
    "name": "ipython",
    "version": 3
   },
   "file_extension": ".py",
   "mimetype": "text/x-python",
   "name": "python",
   "nbconvert_exporter": "python",
   "pygments_lexer": "ipython3",
   "version": "3.8.5"
  }
 },
 "nbformat": 4,
 "nbformat_minor": 4
}
