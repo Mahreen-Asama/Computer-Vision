{
 "cells": [
  {
   "cell_type": "code",
   "execution_count": 72,
   "metadata": {},
   "outputs": [
    {
     "data": {
      "image/png": "[encoded data removed]",
      "text/plain": [
       "<Figure size 1080x720 with 4 Axes>"
      ]
     },
     "metadata": {},
     "output_type": "display_data"
    }
   ],
   "source": [
    "import cv2 as cv\n",
    "import numpy as np\n",
    "import matplotlib.pylab as plt\n",
    "\n",
    "img=cv.imread('shapes.png',0)             #read image in graysacle\n",
    "image=plt.imread('shapes.png')\n",
    "\n",
    "T = get_threshold(img)                    #generate threshold\n",
    "\n",
    "trun_thresh_img = trun_threshold(img)     # getting resultant images from functions\n",
    "inverted_zero_thresh_img = inverted_zero_threshold(img)\n",
    "inverted_binary_thresh_img = inverted_binary_threshold(img)\n",
    "\n",
    "plt.figure(figsize=(15,10))               #plotting thresholded images\n",
    "plt.subplot(221)\n",
    "plt.imshow(image)\n",
    "plt.title('Original')\n",
    "plt.xticks([])\n",
    "plt.yticks([])\n",
    "\n",
    "plt.subplot(222)\n",
    "plt.imshow(trun_thresh_img, cmap='gray')\n",
    "plt.title('truncate_threshold')\n",
    "plt.xticks([])\n",
    "plt.yticks([])\n",
    "\n",
    "plt.subplot(223)\n",
    "plt.imshow(inverted_zero_thresh_img, cmap='gray')\n",
    "plt.title('inverted_zero_threshold')\n",
    "plt.xticks([])\n",
    "plt.yticks([])\n",
    "\n",
    "plt.subplot(224)\n",
    "plt.imshow(inverted_binary_thresh_img, cmap='gray')\n",
    "plt.title('inverted_binary_threshold')\n",
    "plt.xticks([])\n",
    "plt.yticks([])\n",
    "\n",
    "plt.savefig(\"results.png\")"
   ]
  },
  {
   "cell_type": "code",
   "execution_count": 66,
   "metadata": {},
   "outputs": [],
   "source": [
    "def get_threshold(im):                           #function that generates threshold of given image using 'averaging' method\n",
    "    t_old=im.mean()\n",
    "    \n",
    "    while True:\n",
    "        foreground_img = (im > t_old) * im       #making G1\n",
    "        background_img = (im <= t_old) * im      #making G2\n",
    "    \n",
    "        mean1 = foreground_img.mean()\n",
    "        mean2 = background_img.mean()\n",
    "    \n",
    "        t_new = (mean1 + mean2) / 2\n",
    "    \n",
    "        #print(t_old)\n",
    "        #print(t_new)\n",
    "    \n",
    "        diff = t_new - t_old\n",
    "    \n",
    "        #print(diff)\n",
    "    \n",
    "        if diff > 1e-4:\n",
    "            t_old = t_new\n",
    "        else:\n",
    "            break\n",
    "            \n",
    "    return t_old            #returning threshold\n"
   ]
  },
  {
   "cell_type": "code",
   "execution_count": 67,
   "metadata": {},
   "outputs": [],
   "source": [
    "def trun_threshold(im):    # a fuction creates truncate thresholding of given img, & returns it\n",
    "    r,c=im.shape\n",
    "    img2 = np.zeros((r,c), dtype=np.uint8)\n",
    "    \n",
    "    for i in range (r):\n",
    "        for j in range (c):\n",
    "            if im[i,j] > T:\n",
    "                img2[i,j] = T\n",
    "            else:\n",
    "                img2[i,j] = im[i,j]\n",
    "    return img2"
   ]
  },
  {
   "cell_type": "code",
   "execution_count": 68,
   "metadata": {},
   "outputs": [],
   "source": [
    "def inverted_zero_threshold(im):    # a fuction creates inverted zero thresholding of given img, & returns it\n",
    "    r,c=im.shape\n",
    "    img3 = np.zeros((r,c), dtype=np.uint8)\n",
    "    \n",
    "    for i in range (r):\n",
    "        for j in range (c):\n",
    "            if im[i,j] > T:\n",
    "                img3[i,j] = 0\n",
    "            else:\n",
    "                img3[i,j] = im[i,j]\n",
    "    return img3"
   ]
  },
  {
   "cell_type": "code",
   "execution_count": 69,
   "metadata": {},
   "outputs": [],
   "source": [
    "def inverted_binary_threshold(im):    # a fuction creates inverted binary thresholding of given img, & returns it\n",
    "    r,c=im.shape\n",
    "    img4 = np.zeros((r,c), dtype=np.uint8)\n",
    "    max_gray_level = im.max()         # finding maximum gray level of image\n",
    "    \n",
    "    for i in range (r):\n",
    "        for j in range (c):\n",
    "            if im[i,j] > T:\n",
    "                img4[i,j] = 0\n",
    "            else:\n",
    "                img4[i,j] = max_gray_level\n",
    "    return img4"
   ]
  },
  {
   "cell_type": "code",
   "execution_count": null,
   "metadata": {},
   "outputs": [],
   "source": []
  }
 ],
 "metadata": {
  "kernelspec": {
   "display_name": "Python 3",
   "language": "python",
   "name": "python3"
  },
  "language_info": {
   "codemirror_mode": {
    "name": "ipython",
    "version": 3
   },
   "file_extension": ".py",
   "mimetype": "text/x-python",
   "name": "python",
   "nbconvert_exporter": "python",
   "pygments_lexer": "ipython3",
   "version": "3.8.5"
  }
 },
 "nbformat": 4,
 "nbformat_minor": 4
}
